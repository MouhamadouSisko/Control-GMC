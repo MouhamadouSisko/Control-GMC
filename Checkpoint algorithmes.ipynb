{
 "cells": [
  {
   "cell_type": "code",
   "execution_count": 5,
   "id": "17e39a34",
   "metadata": {},
   "outputs": [
    {
     "name": "stdout",
     "output_type": "stream",
     "text": [
      "False\n",
      "True\n"
     ]
    }
   ],
   "source": [
    "#algorithme recherche binaire\n",
    "def recherche_binaire(liste, cible): \n",
    "  debut = 0 # definition des variables\n",
    "  fin = len(liste) - 1\n",
    "\n",
    "  while debut <= fin: # parcourir la liste \n",
    "    milieu = (debut + fin) // 2  #trouver le milieu de la ligne\n",
    "\n",
    "    if liste[milieu] == cible: \n",
    "      return True\n",
    "    elif liste[milieu] < cible: \n",
    "      debut = milieu + 1\n",
    "    else: \n",
    "      fin = milieu - 1\n",
    "\n",
    "  return False\n",
    "print (recherche_binaire([1,2,3,5,8], 6))\n",
    "print (recherche_binaire([1,2,3,5,8], 5))"
   ]
  },
  {
   "cell_type": "code",
   "execution_count": 17,
   "id": "1a94af10",
   "metadata": {},
   "outputs": [
    {
     "data": {
      "text/plain": [
       "81"
      ]
     },
     "execution_count": 17,
     "metadata": {},
     "output_type": "execute_result"
    }
   ],
   "source": [
    "#calcul de la puissance a\n",
    "def puissance(a, b): \n",
    "  resultat = 1\n",
    "\n",
    "  for i in range(b): \n",
    "    resultat *= a\n",
    "\n",
    "  return resultat\n",
    "a=3\n",
    "b=4\n",
    "puissance(a, b)"
   ]
  },
  {
   "cell_type": "code",
   "execution_count": 4,
   "id": "39aab2be",
   "metadata": {},
   "outputs": [
    {
     "name": "stdout",
     "output_type": "stream",
     "text": [
      "mettez les valeurs 29,13,22,37,52,49,46,71,56\n"
     ]
    },
    {
     "data": {
      "text/plain": [
       "[13, 22, 29, 37, 46, 49, 52, 56, 71]"
      ]
     },
     "execution_count": 4,
     "metadata": {},
     "output_type": "execute_result"
    }
   ],
   "source": [
    "#Algorithmes tri a bulles\n",
    "l=[int(n) for n in input(\"mettez les valeurs \").split(',')]\n",
    "def tri_bulles(l): \n",
    "  for i in range(len(l)) :# Parcourir tous les éléments de la liste \n",
    "    for j in range(len(l)-1-i): # Dernier élément non trié  \n",
    "      if l[j] > l[j+1]: # Comparer les éléments voisins \n",
    "        l[j], l[j+1] = l[j+1], l[j]\n",
    "\n",
    "  return l\n",
    "tri_bulles(l)"
   ]
  },
  {
   "cell_type": "code",
   "execution_count": 4,
   "id": "1b842bdc",
   "metadata": {},
   "outputs": [
    {
     "name": "stdout",
     "output_type": "stream",
     "text": [
      "mettez les valeurs 29,13,22,37,52,49,46,71,56\n"
     ]
    },
    {
     "data": {
      "text/plain": [
       "[13, 22, 29, 37, 46, 49, 52, 56, 71]"
      ]
     },
     "execution_count": 4,
     "metadata": {},
     "output_type": "execute_result"
    }
   ],
   "source": [
    "# Algorithme Tri par fusion\n",
    "liste=[int(n) for n in input(\"mettez les valeurs \").split(',')]\n",
    "def tri_fusion(liste): \n",
    "  if len(liste) <= 1: \n",
    "    return liste\n",
    "\n",
    "  milieu = len(liste) // 2 #trouver le milieu de la ligne\n",
    "  gauche = tri_fusion(liste[:milieu])#séparer la liste en deux parties\n",
    "  droite = tri_fusion(liste[milieu:])\n",
    "\n",
    "  return fusion(gauche, droite)\n",
    "\n",
    "def fusion(liste1, liste2): \n",
    "  resultat = []\n",
    "\n",
    "  i = j = 0\n",
    "    #copier les données dans les listes temporaires\n",
    "  while i < len(liste1) and j < len(liste2): \n",
    "    if liste1[i] < liste2[j]: \n",
    "      resultat.append(liste1[i])\n",
    "      i += 1\n",
    "    else: \n",
    "      resultat.append(liste2[j])\n",
    "      j += 1\n",
    "\n",
    "  resultat += liste1[i:]\n",
    "  resultat += liste2[j:]\n",
    "\n",
    "  return resultat\n",
    "tri_fusion(liste)\n"
   ]
  },
  {
   "cell_type": "code",
   "execution_count": 3,
   "id": "b0186cf1",
   "metadata": {},
   "outputs": [
    {
     "name": "stdout",
     "output_type": "stream",
     "text": [
      "mettez les valeurs 29,13,22,37,52,49,46,71,56\n"
     ]
    },
    {
     "data": {
      "text/plain": [
       "[13, 22, 29, 37, 46, 49, 52, 56, 71]"
      ]
     },
     "execution_count": 3,
     "metadata": {},
     "output_type": "execute_result"
    }
   ],
   "source": [
    "# Tri rapide\n",
    "l1=[int(n) for n in input(\"mettez les valeurs \").split(',')]\n",
    "def quick_sort(l1): \n",
    "    if len(l1) <= 1: \n",
    "        return l1 \n",
    "    pivot = l1[len(l1) // 2] \n",
    "    gauche = [x for x in l1 if x < pivot] \n",
    "    droite = [x for x in l1 if x > pivot] \n",
    "    milieu = [x for x in l1 if x == pivot] \n",
    "    return quick_sort(gauche) + milieu + quick_sort(droite)\n",
    "quick_sort(l1)"
   ]
  },
  {
   "cell_type": "code",
   "execution_count": null,
   "id": "00d5a84a",
   "metadata": {},
   "outputs": [],
   "source": []
  }
 ],
 "metadata": {
  "kernelspec": {
   "display_name": "Python 3 (ipykernel)",
   "language": "python",
   "name": "python3"
  },
  "language_info": {
   "codemirror_mode": {
    "name": "ipython",
    "version": 3
   },
   "file_extension": ".py",
   "mimetype": "text/x-python",
   "name": "python",
   "nbconvert_exporter": "python",
   "pygments_lexer": "ipython3",
   "version": "3.9.13"
  }
 },
 "nbformat": 4,
 "nbformat_minor": 5
}
