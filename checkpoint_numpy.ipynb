{
 "cells": [
  {
   "cell_type": "code",
   "execution_count": 1,
   "id": "947685bd",
   "metadata": {},
   "outputs": [
    {
     "name": "stdout",
     "output_type": "stream",
     "text": [
      "[1, 2, 3, 4, 5]\n"
     ]
    }
   ],
   "source": [
    "#Question 1\n",
    "#creation tableau\n",
    "import numpy as np\n",
    "a = np.array([1, 2, 3, 4, 5])\n",
    "print(a.tolist())#convertion tableau en liste\n"
   ]
  },
  {
   "cell_type": "code",
   "execution_count": 2,
   "id": "531e1e8f",
   "metadata": {},
   "outputs": [
    {
     "name": "stdout",
     "output_type": "stream",
     "text": [
      "15\n"
     ]
    }
   ],
   "source": [
    "#Question 2\n",
    "# creation tableau\n",
    "import numpy as np\n",
    "tab = np.array([[1,2,3],[4,5,6],[7,8,9]])\n",
    "print(np.trace(tab))#Somme des elements diagonaux\n"
   ]
  },
  {
   "cell_type": "code",
   "execution_count": 2,
   "id": "3f9d166e",
   "metadata": {},
   "outputs": [
    {
     "name": "stdout",
     "output_type": "stream",
     "text": [
      "3\n",
      "5\n"
     ]
    }
   ],
   "source": [
    "#question 3\n",
    "import numpy as np \n",
    "a = np.array([[1,2],[3,5]])\n",
    "x = 2 \n",
    "def sup(a,x):\n",
    "    for i in range(len(a)):\n",
    "        for j in range(len(a[i])):\n",
    "            if a[i][j] > x:\n",
    "                print(a[i][j])\n",
    "\n",
    "sup(a,x)\n"
   ]
  },
  {
   "cell_type": "code",
   "execution_count": 18,
   "id": "9965a5dd",
   "metadata": {},
   "outputs": [
    {
     "name": "stdout",
     "output_type": "stream",
     "text": [
      "[[ 6.  8.]\n",
      " [10. 12.]]\n"
     ]
    }
   ],
   "source": [
    "#Question 4\n",
    "#creation des tableaus\n",
    "import numpy as np\n",
    "A = np.array([[1, 2], [3, 4]])\n",
    "B = np.array([[5, 6], [7, 8]])\n",
    "C = np.zeros((2, 2))\n",
    "for i in range(len(A)):\n",
    "    for j in range(len(A[0])):\n",
    "         C[i, j] = A[i, j] + B[i, j]#addition de chaque element du tableau \n",
    "print(C) #imprimez le tableau C\n"
   ]
  },
  {
   "cell_type": "code",
   "execution_count": 17,
   "id": "1ebb5008",
   "metadata": {},
   "outputs": [
    {
     "name": "stdout",
     "output_type": "stream",
     "text": [
      "[[ 0.  0.]\n",
      " [-1.  1.]]\n"
     ]
    }
   ],
   "source": [
    "#question 5\n",
    "#creation tableau \n",
    "import numpy as np\n",
    "a = np.array([[2, 2], [4, 6]])\n",
    "print(a - a.mean(axis=1, keepdims=True))#imprimez moyennes de soustraction de chaque elements\n",
    " \n"
   ]
  }
 ],
 "metadata": {
  "kernelspec": {
   "display_name": "Python 3 (ipykernel)",
   "language": "python",
   "name": "python3"
  },
  "language_info": {
   "codemirror_mode": {
    "name": "ipython",
    "version": 3
   },
   "file_extension": ".py",
   "mimetype": "text/x-python",
   "name": "python",
   "nbconvert_exporter": "python",
   "pygments_lexer": "ipython3",
   "version": "3.9.13"
  }
 },
 "nbformat": 4,
 "nbformat_minor": 5
}
