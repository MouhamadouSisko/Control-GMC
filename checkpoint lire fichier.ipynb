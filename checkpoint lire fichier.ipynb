{
 "cells": [
  {
   "cell_type": "code",
   "execution_count": 9,
   "id": "8852f217",
   "metadata": {},
   "outputs": [
    {
     "name": "stdout",
     "output_type": "stream",
     "text": [
      "This is my first file\n",
      "This file\n",
      "contains three lines\n",
      "Nous pouvons specifier le mode lors de l'ouverture d'un fichier. En mode, nous specifions si nous voulons lire r , ecrire dans w ou ajouter un fichier.\n",
      "\n",
      "Nous pouvons egalement specifier si nous voulons ouvrir le fichier en mode texte ou en mode binaire.\n",
      "La valeur par defaut est la lecture en mode texte. Dans ce mode, nous obtenons des chaines lors de la lecture du fichier.\n",
      "Lorsqu'il s'agit de fichiers non textuels tels que des images ou des fichiers executables, le mode binaire est preferable car il renvoie des octets.\n",
      "\n",
      "\n"
     ]
    }
   ],
   "source": [
    "# Programme pour lire un fichier texte entier\n",
    "fichier = open(\"test.txt\", \"r\") \n",
    "contenu = fichier.read() \n",
    "print(contenu) \n",
    "fichier.close() \n"
   ]
  },
  {
   "cell_type": "code",
   "execution_count": 11,
   "id": "8e96b9e3",
   "metadata": {},
   "outputs": [
    {
     "name": "stdout",
     "output_type": "stream",
     "text": [
      "Entrez le nombre de lignes à lire : 2\n",
      "This is my first file\n",
      "\n",
      "This file\n",
      "\n"
     ]
    }
   ],
   "source": [
    "# Programme pour lire les n premières lignes d'un fichier\n",
    "n = int(input(\"Entrez le nombre de lignes à lire : \"))\n",
    "fichier = open(\"test.txt\", \"r\")  \n",
    "for i in range(n): \n",
    "    ligne = fichier.readline() \n",
    "    print(ligne) \n",
    "fichier.close() \n"
   ]
  },
  {
   "cell_type": "code",
   "execution_count": 12,
   "id": "8a9244db",
   "metadata": {},
   "outputs": [
    {
     "name": "stdout",
     "output_type": "stream",
     "text": [
      "Entrez le nombre de lignes à lire : 3\n",
      "La valeur par defaut est la lecture en mode texte. Dans ce mode, nous obtenons des chaines lors de la lecture du fichier.\n",
      "\n",
      "Lorsqu'il s'agit de fichiers non textuels tels que des images ou des fichiers executables, le mode binaire est preferable car il renvoie des octets.\n",
      "\n",
      "\n",
      "\n"
     ]
    }
   ],
   "source": [
    "# Programme pour lire les n dernières lignes d'un fichier\n",
    "n = int(input(\"Entrez le nombre de lignes à lire : \"))\n",
    "fichier = open(\"test.txt\", \"r\")\n",
    "lignes = fichier.readlines() \n",
    "for i in range(len(lignes)-n, len(lignes)): \n",
    "    print(lignes[i]) \n",
    "fichier.close() \n"
   ]
  },
  {
   "cell_type": "code",
   "execution_count": 13,
   "id": "a0a6a814",
   "metadata": {},
   "outputs": [
    {
     "name": "stdout",
     "output_type": "stream",
     "text": [
      "Le nombre de mots dans le fichier est : 101\n"
     ]
    }
   ],
   "source": [
    "# Programme qui prend un fichier texte en entrée et renvoie le nombre de mots d'un fichier texte donné\n",
    "fichier = open(\"test.txt\", \"r\")\n",
    "contenu = fichier.read() \n",
    "mots = contenu.split() \n",
    "print(\"Le nombre de mots dans le fichier est :\", len(mots)) \n",
    "fichier.close() \n"
   ]
  },
  {
   "cell_type": "code",
   "execution_count": 15,
   "id": "5e8aa54c",
   "metadata": {},
   "outputs": [
    {
     "name": "stdout",
     "output_type": "stream",
     "text": [
      "Entrez le nombre de lignes à lire : 2\n",
      "Lorsqu'il s'agit de fichiers non textuels tels que des images ou des fichiers executables, le mode binaire est preferable car il renvoie des octets.\n",
      "\n",
      "\n",
      "\n"
     ]
    }
   ],
   "source": [
    "# Programme pour lire les n dernières lignes d'un fichier\n",
    "n = int(input(\"Entrez le nombre de lignes à lire : \"))\n",
    "fichier = open(\"test.txt\", \"r\") \n",
    "lignes = fichier.readlines() \n",
    "for i in range(len(lignes)-n, len(lignes)): \n",
    "    print(lignes[i]) \n",
    "fichier.close()\n"
   ]
  },
  {
   "cell_type": "code",
   "execution_count": null,
   "id": "dbc48919",
   "metadata": {},
   "outputs": [],
   "source": []
  }
 ],
 "metadata": {
  "kernelspec": {
   "display_name": "Python 3 (ipykernel)",
   "language": "python",
   "name": "python3"
  },
  "language_info": {
   "codemirror_mode": {
    "name": "ipython",
    "version": 3
   },
   "file_extension": ".py",
   "mimetype": "text/x-python",
   "name": "python",
   "nbconvert_exporter": "python",
   "pygments_lexer": "ipython3",
   "version": "3.9.13"
  }
 },
 "nbformat": 4,
 "nbformat_minor": 5
}
