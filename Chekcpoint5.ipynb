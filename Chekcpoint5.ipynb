{
 "cells": [
  {
   "cell_type": "code",
   "execution_count": 2,
   "id": "a1a518f5",
   "metadata": {},
   "outputs": [
    {
     "name": "stdout",
     "output_type": "stream",
     "text": [
      "(1, 2, 3)\n"
     ]
    }
   ],
   "source": [
    "#Question1\n",
    "#definisons les attributs \n",
    "class Point3D:\n",
    "    def __init__(self, x, y, z):\n",
    "        self.x = x\n",
    "        self.y = y\n",
    "        self.z = z\n",
    "    def __repr__(self):\n",
    "        return f\"({self.x}, {self.y}, {self.z})\"\n",
    "\n",
    "my_point = Point3D(1, 2, 3)\n",
    "print(my_point)#imprimer my point\n"
   ]
  },
  {
   "cell_type": "code",
   "execution_count": 4,
   "id": "911ce35b",
   "metadata": {},
   "outputs": [
    {
     "name": "stdout",
     "output_type": "stream",
     "text": [
      "12\n",
      "14\n"
     ]
    }
   ],
   "source": [
    "#question 2\n",
    "#creation des attributs rectangles\n",
    "class rectangle() : \n",
    "    def __init__(self, longueur, largeur):\n",
    "        self.longueur = longueur\n",
    "        self.largeur = largeur\n",
    "#definir calcul du surface\n",
    "    def surface(self):\n",
    "        return self.longueur * self.largeur\n",
    "#definir calcul perimetre\n",
    "    def perimetre(self):\n",
    "        return 2 * (self.longueur + self.largeur)\n",
    "my_rectangle = rectangle(3, 4)\n",
    "print(my_rectangle.surface())#imprimer surface du rectangle\n",
    "print(my_rectangle.perimetre())#imprimer perimetre du rectangle"
   ]
  },
  {
   "cell_type": "code",
   "execution_count": 3,
   "id": "26f06f27",
   "metadata": {},
   "outputs": [
    {
     "name": "stdout",
     "output_type": "stream",
     "text": [
      "3.141592653589793\n",
      "6.283185307179586\n",
      "True\n"
     ]
    }
   ],
   "source": [
    "#Question 3\n",
    "#Creation des attributs et objets\n",
    "from math import*\n",
    "import math\n",
    "class Circle:\n",
    "    def __init__(self, O, r):\n",
    "        self.O = O\n",
    "        self.r = r\n",
    "    def surface(self):# surface du cercle en cm²\n",
    "        return math.pi * self.r**2\n",
    "    def perimetre(self):# périmètre du cercle en cm²\n",
    "        return 2 * math.pi * self.r\n",
    "    def Inside(self, A): # teste si le point appartient au cercle ou non\n",
    "        return (A[0] - self.O[0])**2 + (A[1] - self.O[1])**2 <= self.r**2\n",
    "\n",
    "C = Circle((0, 0), 1)\n",
    "print(C.surface())\n",
    "print(C.perimetre())\n",
    "print(C.Inside((0.5, 0.5)))\n"
   ]
  },
  {
   "cell_type": "code",
   "execution_count": 22,
   "id": "bf629661",
   "metadata": {},
   "outputs": [],
   "source": [
    "#Question 4\n",
    "#creation des attributs et objet bank \n",
    "class Bank:\n",
    "    def __init__(self,numcompte,solde):\n",
    "        self.numcompte = numcompte\n",
    "        self.solde = solde\n",
    "#Effectuer des opérations de dépôt et retrait\n",
    "    def depot(self,montant):\n",
    "        self.solde = self.solde+montant \n",
    "    def retrait(self,retrait):#\n",
    "        if (montant <= self.solde):\n",
    "            self.solde -= montant\n",
    "        else : \n",
    "            print(\"insuffisance de provision, retrait impossible \") \n",
    "    def afficher_solde(self):#afficher le solde\n",
    "        print(\"le solde est de :\", self.solde)"
   ]
  }
 ],
 "metadata": {
  "kernelspec": {
   "display_name": "Python 3 (ipykernel)",
   "language": "python",
   "name": "python3"
  },
  "language_info": {
   "codemirror_mode": {
    "name": "ipython",
    "version": 3
   },
   "file_extension": ".py",
   "mimetype": "text/x-python",
   "name": "python",
   "nbconvert_exporter": "python",
   "pygments_lexer": "ipython3",
   "version": "3.9.13"
  }
 },
 "nbformat": 4,
 "nbformat_minor": 5
}
