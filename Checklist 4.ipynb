{
 "cells": [
  {
   "cell_type": "code",
   "execution_count": 1,
   "id": "bc1ba2f4",
   "metadata": {},
   "outputs": [
    {
     "name": "stdout",
     "output_type": "stream",
     "text": [
      "Mettre la valeur a 12\n",
      "Mettre la valeur b 15\n",
      "Mettre la valeur c 13\n"
     ]
    },
    {
     "data": {
      "text/plain": [
       "15"
      ]
     },
     "execution_count": 1,
     "metadata": {},
     "output_type": "execute_result"
    }
   ],
   "source": [
    "#Question 1\n",
    "#Definir le maximum parmi les trois\n",
    "def my_f():\n",
    "    a = int(input(\"Mettre la valeur a \"))\n",
    "    b = int(input(\"Mettre la valeur b \"))\n",
    "    c = int(input(\"Mettre la valeur c \"))\n",
    "    return max(max(a,b),c)\n",
    "my_f()\n"
   ]
  },
  {
   "cell_type": "code",
   "execution_count": 2,
   "id": "672f45cd",
   "metadata": {},
   "outputs": [
    {
     "name": "stdout",
     "output_type": "stream",
     "text": [
      "Mettre la valeur a 10\n",
      "Mettre la valeur b 5\n"
     ]
    },
    {
     "data": {
      "text/plain": [
       "[15, 5]"
      ]
     },
     "execution_count": 2,
     "metadata": {},
     "output_type": "execute_result"
    }
   ],
   "source": [
    "#Question 2\n",
    "#faire l'addition et la soustraction des variables\n",
    "def calcul():\n",
    "    a = int(input(\"Mettre la valeur a \"))\n",
    "    b = int(input(\"Mettre la valeur b \"))\n",
    "    return [a + b, a - b];\n",
    "    \n",
    "calcul()"
   ]
  },
  {
   "cell_type": "code",
   "execution_count": 23,
   "id": "2e7955ed",
   "metadata": {},
   "outputs": [
    {
     "name": "stdout",
     "output_type": "stream",
     "text": [
      "la valeur séparée par des virgules1,2,3,4,5,6,7,8,9,10\n",
      "(30, 945)\n"
     ]
    }
   ],
   "source": [
    "#Question 3\n",
    "#faire l'addition des éléments de la liste \n",
    "def add(l2):\n",
    "    total=0\n",
    "    for i in l2:\n",
    "        total=sum(l2)\n",
    "    return total\n",
    "\n",
    "#multiplier les élémnents de la liste\n",
    "def multi(l2): \n",
    "    m = 1\n",
    "    for i in l2:\n",
    "        m *= i\n",
    "    return m\n",
    " #la somme des deux fonction\n",
    "def add_multi(l2):\n",
    "    liste_pair = []\n",
    "    liste_impair = []\n",
    "    for i in range(len(l2)):\n",
    "        if i % 2 == 0:\n",
    "            liste_impair.append(l2[i])\n",
    "        else:\n",
    "            liste_pair.append(l2[i])\n",
    "    return add(liste_pair), multi(liste_impair)#additionner la liste des elements pairs et multiplier les elements impairs\n",
    "    \n",
    "print(add_multi(l2=[int(a) for a in input(\"la valeur séparée par des virgules\").split(',')]))\n",
    "      "
   ]
  },
  {
   "cell_type": "code",
   "execution_count": 9,
   "id": "6b89ea0d",
   "metadata": {},
   "outputs": [
    {
     "name": "stdout",
     "output_type": "stream",
     "text": [
      "Nom:sissokho\n"
     ]
    },
    {
     "data": {
      "text/plain": [
       "'Sissokho'"
      ]
     },
     "execution_count": 9,
     "metadata": {},
     "output_type": "execute_result"
    }
   ],
   "source": [
    "#question 4\n",
    "#Mettre la premiere lettre en majuscule\n",
    "def premier_lettre():\n",
    "    d=[input(\"Nom:\")]  \n",
    "    return d[0].capitalize()\n",
    "premier_lettre()\n"
   ]
  },
  {
   "cell_type": "code",
   "execution_count": 28,
   "id": "5b4f9a5d",
   "metadata": {},
   "outputs": [
    {
     "name": "stdout",
     "output_type": "stream",
     "text": [
      "Placement, du, cas, de, base\n"
     ]
    },
    {
     "data": {
      "text/plain": [
       "'Placement'"
      ]
     },
     "execution_count": 28,
     "metadata": {},
     "output_type": "execute_result"
    }
   ],
   "source": [
    "#Question5\n",
    "#Sortir le plus grand mot du dictionnaire\n",
    "def plus_grand():\n",
    "    f=(input(\"\").split(','))\n",
    "    mot={\"\"}\n",
    "    for x in f:\n",
    "        if len(mot)>len(f):\n",
    "            mot = i\n",
    "    return max(f,key=len)\n",
    "plus_grand()"
   ]
  },
  {
   "cell_type": "code",
   "execution_count": 25,
   "id": "136645a3",
   "metadata": {},
   "outputs": [
    {
     "name": "stdout",
     "output_type": "stream",
     "text": [
      "mettre les couleurs:vert-rouge-jaune-noir-blanc\n"
     ]
    },
    {
     "data": {
      "text/plain": [
       "'blanc-jaune-noir-rouge-vert'"
      ]
     },
     "execution_count": 25,
     "metadata": {},
     "output_type": "execute_result"
    }
   ],
   "source": [
    "#Question 6\n",
    "#trier les mots\n",
    "def tri():\n",
    "    tr=input(\"mettre les couleurs:\").split('-')\n",
    "    return '-'.join(sorted(tr))\n",
    "tri()\n"
   ]
  },
  {
   "cell_type": "code",
   "execution_count": 43,
   "id": "dc493255",
   "metadata": {},
   "outputs": [
    {
     "name": "stdout",
     "output_type": "stream",
     "text": [
      "Mettre les valeurs : 100,150,180\n",
      "18,22,24,"
     ]
    }
   ],
   "source": [
    "#Question 7\n",
    "# calcul des variables par une formule\n",
    "import math\n",
    "def calc(D):\n",
    "    C = 50\n",
    "    H = 30\n",
    "    Q = int(round(math.sqrt((2*C*D)/H)))#mettre en entier \n",
    "    return Q\n",
    "\n",
    "D =[int(i) for i in input(\"Mettre les valeurs : \").split(\",\")]\n",
    "for i in D:\n",
    "    print(calc(i), end=',')#aligner les résultats en les séparants par des virgules\n",
    "\n"
   ]
  },
  {
   "cell_type": "code",
   "execution_count": null,
   "id": "877f0b7a",
   "metadata": {},
   "outputs": [],
   "source": []
  }
 ],
 "metadata": {
  "kernelspec": {
   "display_name": "Python 3 (ipykernel)",
   "language": "python",
   "name": "python3"
  },
  "language_info": {
   "codemirror_mode": {
    "name": "ipython",
    "version": 3
   },
   "file_extension": ".py",
   "mimetype": "text/x-python",
   "name": "python",
   "nbconvert_exporter": "python",
   "pygments_lexer": "ipython3",
   "version": "3.9.13"
  }
 },
 "nbformat": 4,
 "nbformat_minor": 5
}
