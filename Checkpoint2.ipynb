{
 "cells": [
  {
   "cell_type": "code",
   "execution_count": 1,
   "id": "f5d5dc1d",
   "metadata": {},
   "outputs": [
    {
     "name": "stdout",
     "output_type": "stream",
     "text": [
      "veuillez ecrire votre prenom  papa\n",
      "veuillez ecrire votre nomgueye\n",
      "gueye  papa\n"
     ]
    }
   ],
   "source": [
    "#Question 1\n",
    "prenom=input(\"veuillez ecrire votre prenom  \")\n",
    "nom=input(\"veuillez ecrire votre nom\" )\n",
    "print(nom,\"\",prenom)# veuillez ecrire votre nom et prenom\n"
   ]
  },
  {
   "cell_type": "code",
   "execution_count": 2,
   "id": "d46da0bf",
   "metadata": {},
   "outputs": [
    {
     "name": "stdout",
     "output_type": "stream",
     "text": [
      "5\n",
      "615\n"
     ]
    }
   ],
   "source": [
    "#Question2\n",
    "n=str(input())\n",
    "n1=n+n\n",
    "n2=n+n+n\n",
    "print(int(n1)+int(n2)+int(n))"
   ]
  },
  {
   "cell_type": "code",
   "execution_count": 16,
   "id": "f88f146f",
   "metadata": {},
   "outputs": [
    {
     "name": "stdout",
     "output_type": "stream",
     "text": [
      "entrez un nombre 4\n",
      "4,est paire \n"
     ]
    }
   ],
   "source": [
    "#Question 3\n",
    "a=int(input(\"entrez un nombre \"))\n",
    "if (a%2)==0:\n",
    "     print(\"{0},est paire \".format(a))# a est paire\n",
    "else:\n",
    "    print(\"{0},est impaire \".format(a))# a est impaire"
   ]
  },
  {
   "cell_type": "code",
   "execution_count": 42,
   "id": "737ca416",
   "metadata": {},
   "outputs": [
    {
     "name": "stdout",
     "output_type": "stream",
     "text": [
      "2002 2009 2016 2023 2037 2044 2051 2058 2072 2079 2086 2093 2107 2114 2121 2128 2142 2149 2156 2163 2177 2184 2191 2198 2212 2219 2226 2233 2247 2254 2261 2268 2282 2289 2296 2303 2317 2324 2331 2338 2352 2359 2366 2373 2387 2394 2401 2408 2422 2429 2436 2443 2457 2464 2471 2478 2492 2499 2506 2513 2527 2534 2541 2548 2562 2569 2576 2583 2597 2604 2611 2618 2632 2639 2646 2653 2667 2674 2681 2688 2702 2709 2716 2723 2737 2744 2751 2758 2772 2779 2786 2793 2807 2814 2821 2828 2842 2849 2856 2863 2877 2884 2891 2898 2912 2919 2926 2933 2947 2954 2961 2968 2982 2989 2996 3003 3017 3024 3031 3038 3052 3059 3066 3073 3087 3094 3101 3108 3122 3129 3136 3143 3157 3164 3171 3178 3192 3199 "
     ]
    }
   ],
   "source": [
    "#Question 4\n",
    "x= range(2000,3201)\n",
    "for b in x:\n",
    "    if b%7 ==0 and b%5 !=0:\n",
    "        print (b,end=\" \")"
   ]
  },
  {
   "cell_type": "code",
   "execution_count": 44,
   "id": "c7940417",
   "metadata": {},
   "outputs": [
    {
     "name": "stdout",
     "output_type": "stream",
     "text": [
      "8\n",
      "40320\n"
     ]
    }
   ],
   "source": [
    "#Question 5 fonction factorielle\n",
    "m=int(input())   \n",
    "if m == 0:\n",
    "      print (1)\n",
    "else:\n",
    "    F = 1\n",
    "for k in range(1,m+1):\n",
    "            F = F * k\n",
    "print(F)\n"
   ]
  },
  {
   "cell_type": "code",
   "execution_count": 46,
   "id": "a398d31e",
   "metadata": {},
   "outputs": [
    {
     "name": "stdout",
     "output_type": "stream",
     "text": [
      "Bienvenue au senegal\n",
      "20\n",
      "0 B\n",
      "2 e\n",
      "4 v\n",
      "6 n\n",
      "8 e\n",
      "10 a\n",
      "12  \n",
      "14 e\n",
      "16 e\n",
      "18 a\n"
     ]
    }
   ],
   "source": [
    "#Question 6\n",
    "my_str=(\"Bienvenue au senegal\")\n",
    "print(my_str[0:20])\n",
    "print(len(my_str))\n",
    "for i in range(0, 20, 2):\n",
    "    print(i, my_str[i])"
   ]
  },
  {
   "cell_type": "code",
   "execution_count": null,
   "id": "7b6bb3bf",
   "metadata": {},
   "outputs": [],
   "source": []
  }
 ],
 "metadata": {
  "kernelspec": {
   "display_name": "Python 3 (ipykernel)",
   "language": "python",
   "name": "python3"
  },
  "language_info": {
   "codemirror_mode": {
    "name": "ipython",
    "version": 3
   },
   "file_extension": ".py",
   "mimetype": "text/x-python",
   "name": "python",
   "nbconvert_exporter": "python",
   "pygments_lexer": "ipython3",
   "version": "3.9.13"
  }
 },
 "nbformat": 4,
 "nbformat_minor": 5
}
