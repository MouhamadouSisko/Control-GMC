{
 "cells": [
  {
   "cell_type": "code",
   "execution_count": 5,
   "id": "c21af473",
   "metadata": {},
   "outputs": [
    {
     "name": "stdout",
     "output_type": "stream",
     "text": [
      "mettez les valeurs en les separant par des virgules 3.6\n",
      "18\n"
     ]
    }
   ],
   "source": [
    "#Question 1\n",
    "l=[int(c)  for c in input(\"mettez les valeurs en les separant par des virgules \").split('.') ]\n",
    "# multiplier les elements\n",
    "a=1\n",
    "for i in l:\n",
    "    a=i*a\n",
    "print (a)"
   ]
  },
  {
   "cell_type": "code",
   "execution_count": 2,
   "id": "80da584c",
   "metadata": {},
   "outputs": [
    {
     "name": "stdout",
     "output_type": "stream",
     "text": [
      "[(2, 5), (1, 2), (4, 4), (2, 3), (2, 1)]\n",
      "[(2, 1), (1, 2), (2, 3), (4, 4), (2, 5)]\n"
     ]
    }
   ],
   "source": [
    "#Question 2\n",
    "#creation liste\n",
    "l1=[(2, 5), (1, 2), (4, 4), (2, 3), (2, 1)]\n",
    "print(l1)\n",
    "# trier la liste par le dernier élément du tuple\n",
    "l2 = sorted((l1), key=lambda x: x[1])\n",
    "print (l2)\n"
   ]
  },
  {
   "cell_type": "code",
   "execution_count": 6,
   "id": "5bee1e81",
   "metadata": {},
   "outputs": [
    {
     "name": "stdout",
     "output_type": "stream",
     "text": [
      "{'a': 400, 'b': 400, 'c': 300, 'd': 400}\n"
     ]
    }
   ],
   "source": [
    "#Question 3\n",
    "#combinaison des dictionnaires\n",
    "dic1={'a': 100, 'b': 200, 'c':300}\n",
    "dic2={'a': 300, 'b': 200, 'd':400}\n",
    "dic3= dict(dic1) \n",
    "dic3.update(dic2)\n",
    "for i, j in dic1.items():\n",
    "    for x, y in dic2.items():\n",
    "        if i == x:\n",
    "            dic3[i]=(j+y)\n",
    "print(dic3)\n"
   ]
  },
  {
   "cell_type": "code",
   "execution_count": 8,
   "id": "329d1241",
   "metadata": {},
   "outputs": [
    {
     "name": "stdout",
     "output_type": "stream",
     "text": [
      "mettez les valeurs et cles 8\n",
      "{1: 1}\n",
      "{1: 1, 2: 4}\n",
      "{1: 1, 2: 4, 3: 9}\n",
      "{1: 1, 2: 4, 3: 9, 4: 16}\n",
      "{1: 1, 2: 4, 3: 9, 4: 16, 5: 25}\n",
      "{1: 1, 2: 4, 3: 9, 4: 16, 5: 25, 6: 36}\n",
      "{1: 1, 2: 4, 3: 9, 4: 16, 5: 25, 6: 36, 7: 49}\n",
      "{1: 1, 2: 4, 3: 9, 4: 16, 5: 25, 6: 36, 7: 49, 8: 64}\n"
     ]
    }
   ],
   "source": [
    "#Question 4\n",
    "n=int(input(\"mettez les valeurs et cles \"))\n",
    "# Générer un dictionnaire qui contient (i, i*i) \n",
    "dic={}\n",
    "for i in range(1, n+1):\n",
    "    dic[i] = i * i\n",
    "    print(dic)"
   ]
  },
  {
   "cell_type": "code",
   "execution_count": 9,
   "id": "a04a9846",
   "metadata": {},
   "outputs": [
    {
     "name": "stdout",
     "output_type": "stream",
     "text": [
      "[('item3', '24.5'), ('item2', '15.10'), ('item1', '12.20')]\n"
     ]
    }
   ],
   "source": [
    "#Question 5\n",
    "# trier le tuple par son élément float\n",
    "t = [('item1', '12.20'), ('item2', '15.10'), ('item3', '24.5')]\n",
    "t.sort(key = lambda x: x[1], reverse=True)\n",
    "print(t)"
   ]
  },
  {
   "cell_type": "code",
   "execution_count": 10,
   "id": "3ba2aa85",
   "metadata": {},
   "outputs": [
    {
     "name": "stdout",
     "output_type": "stream",
     "text": [
      "0\n",
      "1\n",
      "2\n",
      "3\n",
      "4\n",
      "{0, 1, 2, 3, 5}\n"
     ]
    }
   ],
   "source": [
    "#Question 6\n",
    "# Créer un ensemble \n",
    "mon_set = {0, 1, 2, 3, 4}\n",
    "# itérer sur un ensemble\n",
    "for element in mon_set:\n",
    "    print(element)\n",
    "# ajouter des membres à un ensemble\n",
    "mon_set.add(5)\n",
    "# supprimer des éléments d'un ensemble donné\n",
    "mon_set.remove(4)\n",
    "print(mon_set)\n"
   ]
  },
  {
   "cell_type": "code",
   "execution_count": null,
   "id": "da6c70f0",
   "metadata": {},
   "outputs": [],
   "source": []
  }
 ],
 "metadata": {
  "kernelspec": {
   "display_name": "Python 3 (ipykernel)",
   "language": "python",
   "name": "python3"
  },
  "language_info": {
   "codemirror_mode": {
    "name": "ipython",
    "version": 3
   },
   "file_extension": ".py",
   "mimetype": "text/x-python",
   "name": "python",
   "nbconvert_exporter": "python",
   "pygments_lexer": "ipython3",
   "version": "3.9.13"
  }
 },
 "nbformat": 4,
 "nbformat_minor": 5
}
